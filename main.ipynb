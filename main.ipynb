{
 "cells": [
  {
   "cell_type": "code",
   "execution_count": null,
   "id": "8577c3b9",
   "metadata": {},
   "outputs": [],
   "source": [
    "import pandas as pd\n",
    "import numpy as np\n",
    "import matplotlib.pyplot as plt\n",
    "import seaborn as sns\n",
    "from sklearn.impute import KNNImputer"
   ]
  },
  {
   "cell_type": "code",
   "execution_count": null,
   "id": "9dd1f708",
   "metadata": {},
   "outputs": [],
   "source": [
    "df_train = pd.read_csv('train.csv')\n",
    "df_test = pd.read_csv('test.csv')\n",
    "df_test['Transported'] = False\n",
    "df = pd.concat([df_train, df_test], sort = False)\n",
    "df.drop(['Name', 'PassengerId'], axis = 1, inplace = True)\n",
    "df.head()"
   ]
  },
  {
   "cell_type": "code",
   "execution_count": null,
   "id": "23e1b536",
   "metadata": {},
   "outputs": [],
   "source": [
    "df.shape[0] == df_train.shape[0] + df_test.shape[0]"
   ]
  },
  {
   "cell_type": "code",
   "execution_count": null,
   "id": "a8f83b86",
   "metadata": {},
   "outputs": [],
   "source": [
    "df.isna().sum()"
   ]
  },
  {
   "cell_type": "code",
   "execution_count": null,
   "id": "69219f78",
   "metadata": {},
   "outputs": [],
   "source": [
    "df[['Deck', 'Num', 'Side']] = df['Cabin'].str.split('/', expand = True)\n",
    "df = df.drop(columns = ['Cabin'])\n",
    "df.head()"
   ]
  },
  {
   "cell_type": "code",
   "execution_count": null,
   "id": "102e316d",
   "metadata": {},
   "outputs": [],
   "source": [
    "df['Deck'] = df['Deck'].fillna('U')\n",
    "df['Num'] = df['Num'].fillna(-1)\n",
    "df['Side'] = df['Side'].fillna('U')\n",
    "df.isna().sum()"
   ]
  },
  {
   "cell_type": "code",
   "execution_count": null,
   "id": "3ad91926",
   "metadata": {},
   "outputs": [],
   "source": [
    "df['Side'].value_counts()"
   ]
  },
  {
   "cell_type": "code",
   "execution_count": null,
   "id": "1be43c45",
   "metadata": {},
   "outputs": [],
   "source": [
    "df['Deck'] = df['Deck'].map({'F' : 1, 'G' : 0, 'E' : 2, 'B': 3, 'C' : 4, 'D' : 5, 'A' : 6, 'U' : 7, 'T' : 8})\n",
    "df['Side'] = df['Side'].map({'S': 2, 'P' : 1, 'U' : -1})"
   ]
  },
  {
   "cell_type": "code",
   "execution_count": null,
   "id": "9f58da88",
   "metadata": {},
   "outputs": [],
   "source": [
    "impute_list = ['Age', 'VIP', 'Num', 'CryoSleep', 'Side', 'Deck', 'RoomService', 'FoodCourt', 'ShoppingMall', 'Spa', 'VRDeck']\n",
    "rest = list(set(df.columns) - set(impute_list))\n",
    "df_rest = df[rest]\n",
    "imp = KNNImputer()\n",
    "df_imputed = imp.fit_transform(df[impute_list])\n",
    "df_imputed = pd.DataFrame(df_imputed, columns = impute_list)\n",
    "df = pd.concat([df_rest.reset_index(drop = True), df_imputed.reset_index(drop = True)], axis = 1)"
   ]
  },
  {
   "cell_type": "code",
   "execution_count": null,
   "id": "22e028ef",
   "metadata": {},
   "outputs": [],
   "source": [
    "df.isna().sum()"
   ]
  },
  {
   "cell_type": "code",
   "execution_count": null,
   "id": "784d48bb",
   "metadata": {},
   "outputs": [],
   "source": [
    "df['HomePlanet'] = df['HomePlanet'].fillna('U')\n",
    "df['Destination'] = df['Destination'].fillna('U')\n",
    "category_cols = ['HomePlanet', 'Destination']\n",
    "\n",
    "for col in category_cols:\n",
    "    df = pd.concat([df, pd.get_dummies(df[col], prefix = col)], axis = 1)"
   ]
  },
  {
   "cell_type": "code",
   "execution_count": null,
   "id": "b0a76f47",
   "metadata": {},
   "outputs": [],
   "source": [
    "df.isna().sum()"
   ]
  },
  {
   "cell_type": "code",
   "execution_count": null,
   "id": "95363342",
   "metadata": {},
   "outputs": [],
   "source": [
    "df = df.drop(columns = category_cols)"
   ]
  },
  {
   "cell_type": "markdown",
   "id": "69f9c0e5",
   "metadata": {},
   "source": [
    "# Feature Engineering"
   ]
  },
  {
   "cell_type": "code",
   "execution_count": null,
   "id": "3ba0f7ad",
   "metadata": {},
   "outputs": [],
   "source": [
    "bill_cols = ['RoomService', 'FoodCourt', 'ShoppingMall', 'Spa', 'VRDeck']\n",
    "df['AmtSpent'] = df[bill_cols].sum(axis = 1)\n",
    "df['StdAmtSpent'] = df[bill_cols].std(axis = 1)\n",
    "df['MeanAmtSpent'] = df[bill_cols].mean(axis = 1)"
   ]
  },
  {
   "cell_type": "code",
   "execution_count": null,
   "id": "4b7c32da",
   "metadata": {},
   "outputs": [],
   "source": [
    "df.corr()['Transported'].sort_values(ascending = False)"
   ]
  },
  {
   "cell_type": "code",
   "execution_count": null,
   "id": "ccf50c9e",
   "metadata": {},
   "outputs": [],
   "source": [
    "df['3_high_cols'] = df['CryoSleep'] + df['HomePlanet_Europa'] + df['Destination_55 Cancri e']\n",
    "df['3_low_cols'] = df['AmtSpent'] + df['MeanAmtSpent'] + df['HomePlanet_Earth']"
   ]
  },
  {
   "cell_type": "code",
   "execution_count": null,
   "id": "96b8f50c",
   "metadata": {},
   "outputs": [],
   "source": [
    "df_train, df_test = df[:df_train.shape[0]], df[df_train.shape[0]:]\n",
    "df_test = df_test.drop(columns = 'Transported')\n",
    "df_train.shape, df_test.shape"
   ]
  },
  {
   "cell_type": "markdown",
   "id": "f4355aef",
   "metadata": {},
   "source": [
    "# Model Selection"
   ]
  },
  {
   "cell_type": "code",
   "execution_count": null,
   "id": "ee51ee0c",
   "metadata": {},
   "outputs": [],
   "source": [
    "from xgboost import XGBClassifier\n",
    "from sklearn.tree import DecisionTreeClassifier\n",
    "from sklearn.ensemble import RandomForestClassifier\n",
    "from sklearn.linear_model import LogisticRegression\n",
    "from lightgbm import LGBMClassifier\n",
    "from sklearn.model_selection import train_test_split\n",
    "from sklearn.metrics import accuracy_score"
   ]
  },
  {
   "cell_type": "code",
   "execution_count": null,
   "id": "7e352fc7",
   "metadata": {},
   "outputs": [],
   "source": [
    "X = df_train.drop(columns = 'Transported')\n",
    "y = df_train['Transported']\n",
    "\n",
    "X_train, X_test, y_train, y_test = train_test_split(X, y, test_size = 0.2, random_state = 42)\n",
    "\n",
    "model_1 = XGBClassifier()\n",
    "model_2 = DecisionTreeClassifier()\n",
    "model_3 = RandomForestClassifier()\n",
    "model_4 = LogisticRegression()\n",
    "model_5 = LGBMClassifier()"
   ]
  },
  {
   "cell_type": "code",
   "execution_count": null,
   "id": "74be115d",
   "metadata": {},
   "outputs": [],
   "source": [
    "model_1.fit(X_train, y_train)\n",
    "pred = model_1.predict(X_test)\n",
    "accuracy_score(y_test, pred)"
   ]
  },
  {
   "cell_type": "code",
   "execution_count": null,
   "id": "2443b634",
   "metadata": {},
   "outputs": [],
   "source": [
    "model_2.fit(X_train, y_train)\n",
    "pred = model_2.predict(X_test)\n",
    "accuracy_score(y_test, pred)"
   ]
  },
  {
   "cell_type": "code",
   "execution_count": null,
   "id": "8e55fbee",
   "metadata": {},
   "outputs": [],
   "source": [
    "model_3.fit(X_train, y_train)\n",
    "pred = model_3.predict(X_test)\n",
    "accuracy_score(y_test, pred)"
   ]
  },
  {
   "cell_type": "code",
   "execution_count": null,
   "id": "d7a12d16",
   "metadata": {},
   "outputs": [],
   "source": [
    "model_4.fit(X_train, y_train)\n",
    "pred = model_4.predict(X_test)\n",
    "accuracy_score(y_test, pred)"
   ]
  },
  {
   "cell_type": "code",
   "execution_count": null,
   "id": "64296b54",
   "metadata": {},
   "outputs": [],
   "source": [
    "model_5.fit(X_train, y_train)\n",
    "pred = model_5.predict(X_test)\n",
    "accuracy_score(y_test, pred)"
   ]
  },
  {
   "cell_type": "code",
   "execution_count": null,
   "id": "4f47dd65",
   "metadata": {},
   "outputs": [],
   "source": [
    "df_dummy = pd.read_csv('test.csv')"
   ]
  },
  {
   "cell_type": "code",
   "execution_count": null,
   "id": "16ad5737",
   "metadata": {},
   "outputs": [],
   "source": [
    "pred = model_5.predict(df_test)\n",
    "\n",
    "final = pd.DataFrame()\n",
    "final['PassengerID'] = df_dummy['PassengerId']\n",
    "final['Transported'] = pred\n",
    "\n",
    "final.to_csv('submission.csv', index = False)"
   ]
  }
 ],
 "metadata": {
  "kernelspec": {
   "display_name": "base",
   "language": "python",
   "name": "python3"
  },
  "language_info": {
   "codemirror_mode": {
    "name": "ipython",
    "version": 3
   },
   "file_extension": ".py",
   "mimetype": "text/x-python",
   "name": "python",
   "nbconvert_exporter": "python",
   "pygments_lexer": "ipython3",
   "version": "3.12.4"
  }
 },
 "nbformat": 4,
 "nbformat_minor": 5
}
